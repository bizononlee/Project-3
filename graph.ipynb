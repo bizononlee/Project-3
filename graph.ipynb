{
 "cells": [
  {
   "cell_type": "markdown",
   "metadata": {},
   "source": [
    "Python script manipulating publicly available IMDB name_basics dataset in order to fit COP3530 Project 3 parameters. \n",
    "\n",
    "Available here: https://datasets.imdbws.com/"
   ]
  },
  {
   "cell_type": "code",
   "execution_count": 2,
   "metadata": {},
   "outputs": [],
   "source": [
    "#importing useful libraries\n",
    "import pandas as pd\n",
    "import numpy as np"
   ]
  },
  {
   "cell_type": "code",
   "execution_count": 3,
   "metadata": {},
   "outputs": [
    {
     "data": {
      "text/html": [
       "<div>\n",
       "<style scoped>\n",
       "    .dataframe tbody tr th:only-of-type {\n",
       "        vertical-align: middle;\n",
       "    }\n",
       "\n",
       "    .dataframe tbody tr th {\n",
       "        vertical-align: top;\n",
       "    }\n",
       "\n",
       "    .dataframe thead th {\n",
       "        text-align: right;\n",
       "    }\n",
       "</style>\n",
       "<table border=\"1\" class=\"dataframe\">\n",
       "  <thead>\n",
       "    <tr style=\"text-align: right;\">\n",
       "      <th></th>\n",
       "      <th>nconst</th>\n",
       "      <th>primaryName</th>\n",
       "      <th>birthYear</th>\n",
       "      <th>deathYear</th>\n",
       "      <th>primaryProfession</th>\n",
       "      <th>knownForTitles</th>\n",
       "    </tr>\n",
       "  </thead>\n",
       "  <tbody>\n",
       "    <tr>\n",
       "      <th>0</th>\n",
       "      <td>nm0000001</td>\n",
       "      <td>Fred Astaire</td>\n",
       "      <td>1899</td>\n",
       "      <td>1987</td>\n",
       "      <td>soundtrack,actor,miscellaneous</td>\n",
       "      <td>tt0031983,tt0072308,tt0050419,tt0053137</td>\n",
       "    </tr>\n",
       "    <tr>\n",
       "      <th>1</th>\n",
       "      <td>nm0000002</td>\n",
       "      <td>Lauren Bacall</td>\n",
       "      <td>1924</td>\n",
       "      <td>2014</td>\n",
       "      <td>actress,soundtrack</td>\n",
       "      <td>tt0038355,tt0071877,tt0037382,tt0117057</td>\n",
       "    </tr>\n",
       "    <tr>\n",
       "      <th>2</th>\n",
       "      <td>nm0000003</td>\n",
       "      <td>Brigitte Bardot</td>\n",
       "      <td>1934</td>\n",
       "      <td>\\N</td>\n",
       "      <td>actress,soundtrack,music_department</td>\n",
       "      <td>tt0049189,tt0054452,tt0056404,tt0057345</td>\n",
       "    </tr>\n",
       "    <tr>\n",
       "      <th>3</th>\n",
       "      <td>nm0000004</td>\n",
       "      <td>John Belushi</td>\n",
       "      <td>1949</td>\n",
       "      <td>1982</td>\n",
       "      <td>actor,soundtrack,writer</td>\n",
       "      <td>tt0072562,tt0077975,tt0080455,tt0078723</td>\n",
       "    </tr>\n",
       "    <tr>\n",
       "      <th>4</th>\n",
       "      <td>nm0000005</td>\n",
       "      <td>Ingmar Bergman</td>\n",
       "      <td>1918</td>\n",
       "      <td>2007</td>\n",
       "      <td>writer,director,actor</td>\n",
       "      <td>tt0083922,tt0060827,tt0050986,tt0050976</td>\n",
       "    </tr>\n",
       "  </tbody>\n",
       "</table>\n",
       "</div>"
      ],
      "text/plain": [
       "      nconst      primaryName birthYear deathYear  \\\n",
       "0  nm0000001     Fred Astaire      1899      1987   \n",
       "1  nm0000002    Lauren Bacall      1924      2014   \n",
       "2  nm0000003  Brigitte Bardot      1934        \\N   \n",
       "3  nm0000004     John Belushi      1949      1982   \n",
       "4  nm0000005   Ingmar Bergman      1918      2007   \n",
       "\n",
       "                     primaryProfession  \\\n",
       "0       soundtrack,actor,miscellaneous   \n",
       "1                   actress,soundtrack   \n",
       "2  actress,soundtrack,music_department   \n",
       "3              actor,soundtrack,writer   \n",
       "4                writer,director,actor   \n",
       "\n",
       "                            knownForTitles  \n",
       "0  tt0031983,tt0072308,tt0050419,tt0053137  \n",
       "1  tt0038355,tt0071877,tt0037382,tt0117057  \n",
       "2  tt0049189,tt0054452,tt0056404,tt0057345  \n",
       "3  tt0072562,tt0077975,tt0080455,tt0078723  \n",
       "4  tt0083922,tt0060827,tt0050986,tt0050976  "
      ]
     },
     "execution_count": 3,
     "metadata": {},
     "output_type": "execute_result"
    }
   ],
   "source": [
    "#read imdb into dataframe \n",
    "name_basics = pd.read_csv(\"name.basics.tsv/data.tsv\", sep='\\t')\n",
    "name_basics.head()"
   ]
  },
  {
   "cell_type": "code",
   "execution_count": 4,
   "metadata": {},
   "outputs": [
    {
     "name": "stdout",
     "output_type": "stream",
     "text": [
      "(11365349, 6)\n"
     ]
    }
   ],
   "source": [
    "#initial shape of dataframe\n",
    "print(name_basics.shape)"
   ]
  },
  {
   "cell_type": "code",
   "execution_count": 5,
   "metadata": {},
   "outputs": [
    {
     "name": "stdout",
     "output_type": "stream",
     "text": [
      "(537394, 6)\n"
     ]
    }
   ],
   "source": [
    "#only keep entries with valid birth years\n",
    "name_basics = name_basics[name_basics['birthYear'] != '\\\\N']\n",
    "print(name_basics.shape)"
   ]
  },
  {
   "cell_type": "code",
   "execution_count": 6,
   "metadata": {},
   "outputs": [
    {
     "name": "stdout",
     "output_type": "stream",
     "text": [
      "object\n",
      "int32\n"
     ]
    }
   ],
   "source": [
    "#casting bday to int for future comparison\n",
    "print(name_basics['birthYear'].dtypes)\n",
    "name_basics['birthYear'] = name_basics['birthYear'].astype(int)\n",
    "print(name_basics['birthYear'].dtypes)"
   ]
  },
  {
   "cell_type": "code",
   "execution_count": 7,
   "metadata": {},
   "outputs": [
    {
     "data": {
      "text/plain": [
       "(305660, 6)"
      ]
     },
     "execution_count": 7,
     "metadata": {},
     "output_type": "execute_result"
    }
   ],
   "source": [
    "#filter actors by age\n",
    "name_basics = name_basics[name_basics['birthYear'] > 1950]\n",
    "name_basics.shape"
   ]
  },
  {
   "cell_type": "code",
   "execution_count": 8,
   "metadata": {},
   "outputs": [
    {
     "name": "stdout",
     "output_type": "stream",
     "text": [
      "object\n",
      "object\n"
     ]
    }
   ],
   "source": [
    "#cast popular appearances to string\n",
    "print(name_basics['knownForTitles'].dtypes)\n",
    "name_basics['knownForTitles'] = name_basics['knownForTitles'].astype(str)\n",
    "print(name_basics['knownForTitles'].dtypes)"
   ]
  },
  {
   "cell_type": "code",
   "execution_count": 9,
   "metadata": {},
   "outputs": [
    {
     "name": "stdout",
     "output_type": "stream",
     "text": [
      "(297830, 6)\n"
     ]
    }
   ],
   "source": [
    "#filter out those with no notable titles\n",
    "name_basics = name_basics[name_basics['knownForTitles'] != '\\\\N']\n",
    "print(name_basics.shape)"
   ]
  },
  {
   "cell_type": "code",
   "execution_count": 10,
   "metadata": {},
   "outputs": [
    {
     "name": "stdout",
     "output_type": "stream",
     "text": [
      "(164604, 6)\n"
     ]
    }
   ],
   "source": [
    "#keep only those who are primarily actors/actresses\n",
    "name_basics['primaryProfession'] = name_basics['primaryProfession'].str.slice(0,3)\n",
    "name_basics = name_basics[name_basics['primaryProfession'] == 'act']\n",
    "print(name_basics.shape)"
   ]
  },
  {
   "cell_type": "code",
   "execution_count": 11,
   "metadata": {},
   "outputs": [
    {
     "name": "stdout",
     "output_type": "stream",
     "text": [
      "(99095, 7)\n"
     ]
    }
   ],
   "source": [
    "#filter out actors/actresses with less than 4 notable appearances\n",
    "name_basics['len'] = name_basics['knownForTitles'].str.len()\n",
    "name_basics = name_basics[name_basics['len'] == np.int64(39)]\n",
    "print(name_basics.shape)"
   ]
  },
  {
   "cell_type": "code",
   "execution_count": 12,
   "metadata": {},
   "outputs": [
    {
     "data": {
      "text/html": [
       "<div>\n",
       "<style scoped>\n",
       "    .dataframe tbody tr th:only-of-type {\n",
       "        vertical-align: middle;\n",
       "    }\n",
       "\n",
       "    .dataframe tbody tr th {\n",
       "        vertical-align: top;\n",
       "    }\n",
       "\n",
       "    .dataframe thead th {\n",
       "        text-align: right;\n",
       "    }\n",
       "</style>\n",
       "<table border=\"1\" class=\"dataframe\">\n",
       "  <thead>\n",
       "    <tr style=\"text-align: right;\">\n",
       "      <th></th>\n",
       "      <th>nconst</th>\n",
       "      <th>primaryName</th>\n",
       "      <th>birthYear</th>\n",
       "      <th>deathYear</th>\n",
       "      <th>primaryProfession</th>\n",
       "      <th>knownForTitles</th>\n",
       "      <th>len</th>\n",
       "    </tr>\n",
       "  </thead>\n",
       "  <tbody>\n",
       "    <tr>\n",
       "      <th>28</th>\n",
       "      <td>nm0000029</td>\n",
       "      <td>Margaux Hemingway</td>\n",
       "      <td>1954</td>\n",
       "      <td>1996</td>\n",
       "      <td>act</td>\n",
       "      <td>tt0102122,tt0074802,tt0110138,tt0077800</td>\n",
       "      <td>39</td>\n",
       "    </tr>\n",
       "    <tr>\n",
       "      <th>83</th>\n",
       "      <td>nm0000084</td>\n",
       "      <td>Gong Li</td>\n",
       "      <td>1965</td>\n",
       "      <td>\\N</td>\n",
       "      <td>act</td>\n",
       "      <td>tt0101640,tt0397535,tt0473444,tt0430357</td>\n",
       "      <td>39</td>\n",
       "    </tr>\n",
       "    <tr>\n",
       "      <th>86</th>\n",
       "      <td>nm0000087</td>\n",
       "      <td>Elena Koreneva</td>\n",
       "      <td>1953</td>\n",
       "      <td>\\N</td>\n",
       "      <td>act</td>\n",
       "      <td>tt7529350,tt0080912,tt0122969,tt5847740</td>\n",
       "      <td>39</td>\n",
       "    </tr>\n",
       "    <tr>\n",
       "      <th>92</th>\n",
       "      <td>nm0000093</td>\n",
       "      <td>Brad Pitt</td>\n",
       "      <td>1963</td>\n",
       "      <td>\\N</td>\n",
       "      <td>act</td>\n",
       "      <td>tt1210166,tt2935510,tt0114746,tt0356910</td>\n",
       "      <td>39</td>\n",
       "    </tr>\n",
       "    <tr>\n",
       "      <th>95</th>\n",
       "      <td>nm0000096</td>\n",
       "      <td>Gillian Anderson</td>\n",
       "      <td>1968</td>\n",
       "      <td>\\N</td>\n",
       "      <td>act</td>\n",
       "      <td>tt0106179,tt0442632,tt2294189,tt0455590</td>\n",
       "      <td>39</td>\n",
       "    </tr>\n",
       "  </tbody>\n",
       "</table>\n",
       "</div>"
      ],
      "text/plain": [
       "       nconst        primaryName  birthYear deathYear primaryProfession  \\\n",
       "28  nm0000029  Margaux Hemingway       1954      1996               act   \n",
       "83  nm0000084            Gong Li       1965        \\N               act   \n",
       "86  nm0000087     Elena Koreneva       1953        \\N               act   \n",
       "92  nm0000093          Brad Pitt       1963        \\N               act   \n",
       "95  nm0000096   Gillian Anderson       1968        \\N               act   \n",
       "\n",
       "                             knownForTitles  len  \n",
       "28  tt0102122,tt0074802,tt0110138,tt0077800   39  \n",
       "83  tt0101640,tt0397535,tt0473444,tt0430357   39  \n",
       "86  tt7529350,tt0080912,tt0122969,tt5847740   39  \n",
       "92  tt1210166,tt2935510,tt0114746,tt0356910   39  \n",
       "95  tt0106179,tt0442632,tt2294189,tt0455590   39  "
      ]
     },
     "execution_count": 12,
     "metadata": {},
     "output_type": "execute_result"
    }
   ],
   "source": [
    "#top of dataframe\n",
    "name_basics.head()"
   ]
  },
  {
   "cell_type": "code",
   "execution_count": 13,
   "metadata": {},
   "outputs": [
    {
     "data": {
      "text/html": [
       "<div>\n",
       "<style scoped>\n",
       "    .dataframe tbody tr th:only-of-type {\n",
       "        vertical-align: middle;\n",
       "    }\n",
       "\n",
       "    .dataframe tbody tr th {\n",
       "        vertical-align: top;\n",
       "    }\n",
       "\n",
       "    .dataframe thead th {\n",
       "        text-align: right;\n",
       "    }\n",
       "</style>\n",
       "<table border=\"1\" class=\"dataframe\">\n",
       "  <thead>\n",
       "    <tr style=\"text-align: right;\">\n",
       "      <th></th>\n",
       "      <th>nconst</th>\n",
       "      <th>primaryName</th>\n",
       "      <th>birthYear</th>\n",
       "      <th>deathYear</th>\n",
       "      <th>primaryProfession</th>\n",
       "      <th>knownForTitles</th>\n",
       "      <th>len</th>\n",
       "    </tr>\n",
       "  </thead>\n",
       "  <tbody>\n",
       "    <tr>\n",
       "      <th>11331959</th>\n",
       "      <td>nm9956087</td>\n",
       "      <td>Kiara Cole</td>\n",
       "      <td>1999</td>\n",
       "      <td>\\N</td>\n",
       "      <td>act</td>\n",
       "      <td>tt4381512,tt5917524,tt4384468,tt5946088</td>\n",
       "      <td>39</td>\n",
       "    </tr>\n",
       "    <tr>\n",
       "      <th>11332770</th>\n",
       "      <td>nm9956985</td>\n",
       "      <td>Mariya Krylova</td>\n",
       "      <td>1994</td>\n",
       "      <td>\\N</td>\n",
       "      <td>act</td>\n",
       "      <td>tt5665954,tt8668488,tt3447270,tt5148210</td>\n",
       "      <td>39</td>\n",
       "    </tr>\n",
       "    <tr>\n",
       "      <th>11342666</th>\n",
       "      <td>nm9968037</td>\n",
       "      <td>Takashi Yamanaka</td>\n",
       "      <td>1978</td>\n",
       "      <td>\\N</td>\n",
       "      <td>act</td>\n",
       "      <td>tt2412560,tt1542840,tt3345472,tt1244666</td>\n",
       "      <td>39</td>\n",
       "    </tr>\n",
       "    <tr>\n",
       "      <th>11354556</th>\n",
       "      <td>nm9981451</td>\n",
       "      <td>Jessica Night</td>\n",
       "      <td>1992</td>\n",
       "      <td>\\N</td>\n",
       "      <td>act</td>\n",
       "      <td>tt9501928,tt6642458,tt6669116,tt9497336</td>\n",
       "      <td>39</td>\n",
       "    </tr>\n",
       "    <tr>\n",
       "      <th>11357932</th>\n",
       "      <td>nm9985332</td>\n",
       "      <td>Michael Iacono</td>\n",
       "      <td>2005</td>\n",
       "      <td>\\N</td>\n",
       "      <td>act</td>\n",
       "      <td>tt8110232,tt4158110,tt2372162,tt8591260</td>\n",
       "      <td>39</td>\n",
       "    </tr>\n",
       "  </tbody>\n",
       "</table>\n",
       "</div>"
      ],
      "text/plain": [
       "             nconst       primaryName  birthYear deathYear primaryProfession  \\\n",
       "11331959  nm9956087        Kiara Cole       1999        \\N               act   \n",
       "11332770  nm9956985    Mariya Krylova       1994        \\N               act   \n",
       "11342666  nm9968037  Takashi Yamanaka       1978        \\N               act   \n",
       "11354556  nm9981451     Jessica Night       1992        \\N               act   \n",
       "11357932  nm9985332    Michael Iacono       2005        \\N               act   \n",
       "\n",
       "                                   knownForTitles  len  \n",
       "11331959  tt4381512,tt5917524,tt4384468,tt5946088   39  \n",
       "11332770  tt5665954,tt8668488,tt3447270,tt5148210   39  \n",
       "11342666  tt2412560,tt1542840,tt3345472,tt1244666   39  \n",
       "11354556  tt9501928,tt6642458,tt6669116,tt9497336   39  \n",
       "11357932  tt8110232,tt4158110,tt2372162,tt8591260   39  "
      ]
     },
     "execution_count": 13,
     "metadata": {},
     "output_type": "execute_result"
    }
   ],
   "source": [
    "#bottom of dataframe\n",
    "name_basics.tail()"
   ]
  },
  {
   "cell_type": "code",
   "execution_count": 14,
   "metadata": {},
   "outputs": [],
   "source": [
    "#filter out dead actors\n",
    "name_basics = name_basics[name_basics['deathYear'] == '\\\\N']"
   ]
  },
  {
   "cell_type": "code",
   "execution_count": 15,
   "metadata": {},
   "outputs": [
    {
     "name": "stdout",
     "output_type": "stream",
     "text": [
      "(93968, 2)\n"
     ]
    }
   ],
   "source": [
    "#drop irrelevant columns\n",
    "name_basics.drop('nconst', axis=1, inplace=True)\n",
    "name_basics.drop('birthYear', axis=1, inplace=True)\n",
    "name_basics.drop('deathYear', axis=1, inplace=True)\n",
    "name_basics.drop('primaryProfession', axis=1, inplace=True)\n",
    "name_basics.drop('len', axis=1, inplace=True)\n",
    "\n",
    "print(name_basics.shape)"
   ]
  },
  {
   "cell_type": "code",
   "execution_count": 16,
   "metadata": {},
   "outputs": [
    {
     "data": {
      "text/html": [
       "<div>\n",
       "<style scoped>\n",
       "    .dataframe tbody tr th:only-of-type {\n",
       "        vertical-align: middle;\n",
       "    }\n",
       "\n",
       "    .dataframe tbody tr th {\n",
       "        vertical-align: top;\n",
       "    }\n",
       "\n",
       "    .dataframe thead th {\n",
       "        text-align: right;\n",
       "    }\n",
       "</style>\n",
       "<table border=\"1\" class=\"dataframe\">\n",
       "  <thead>\n",
       "    <tr style=\"text-align: right;\">\n",
       "      <th></th>\n",
       "      <th>primaryName</th>\n",
       "      <th>knownForTitles</th>\n",
       "    </tr>\n",
       "  </thead>\n",
       "  <tbody>\n",
       "    <tr>\n",
       "      <th>83</th>\n",
       "      <td>Gong Li</td>\n",
       "      <td>tt0101640,tt0397535,tt0473444,tt0430357</td>\n",
       "    </tr>\n",
       "    <tr>\n",
       "      <th>86</th>\n",
       "      <td>Elena Koreneva</td>\n",
       "      <td>tt7529350,tt0080912,tt0122969,tt5847740</td>\n",
       "    </tr>\n",
       "    <tr>\n",
       "      <th>92</th>\n",
       "      <td>Brad Pitt</td>\n",
       "      <td>tt1210166,tt2935510,tt0114746,tt0356910</td>\n",
       "    </tr>\n",
       "    <tr>\n",
       "      <th>95</th>\n",
       "      <td>Gillian Anderson</td>\n",
       "      <td>tt0106179,tt0442632,tt2294189,tt0455590</td>\n",
       "    </tr>\n",
       "    <tr>\n",
       "      <th>96</th>\n",
       "      <td>Pamela Anderson</td>\n",
       "      <td>tt0426592,tt0115624,tt0267913,tt0306047</td>\n",
       "    </tr>\n",
       "  </tbody>\n",
       "</table>\n",
       "</div>"
      ],
      "text/plain": [
       "         primaryName                           knownForTitles\n",
       "83           Gong Li  tt0101640,tt0397535,tt0473444,tt0430357\n",
       "86    Elena Koreneva  tt7529350,tt0080912,tt0122969,tt5847740\n",
       "92         Brad Pitt  tt1210166,tt2935510,tt0114746,tt0356910\n",
       "95  Gillian Anderson  tt0106179,tt0442632,tt2294189,tt0455590\n",
       "96   Pamela Anderson  tt0426592,tt0115624,tt0267913,tt0306047"
      ]
     },
     "execution_count": 16,
     "metadata": {},
     "output_type": "execute_result"
    }
   ],
   "source": [
    "#updated top of dataframe\n",
    "name_basics.head()"
   ]
  },
  {
   "cell_type": "code",
   "execution_count": 17,
   "metadata": {},
   "outputs": [],
   "source": [
    "#write updated database to csv\n",
    "name_basics.to_csv('graph.csv', index=False, header=True)"
   ]
  }
 ],
 "metadata": {
  "interpreter": {
   "hash": "983822272b6036f152da607407fb56c82cb33f170b11066cb256a9563c62c1e1"
  },
  "kernelspec": {
   "display_name": "Python 3.9.7 64-bit ('CelebriGator': conda)",
   "name": "python3"
  },
  "language_info": {
   "codemirror_mode": {
    "name": "ipython",
    "version": 3
   },
   "file_extension": ".py",
   "mimetype": "text/x-python",
   "name": "python",
   "nbconvert_exporter": "python",
   "pygments_lexer": "ipython3",
   "version": "3.9.7"
  },
  "orig_nbformat": 4
 },
 "nbformat": 4,
 "nbformat_minor": 2
}
