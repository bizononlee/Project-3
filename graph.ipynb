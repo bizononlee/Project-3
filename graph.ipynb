{
 "cells": [
  {
   "cell_type": "markdown",
   "metadata": {},
   "source": [
    "Python script manipulating publicly available IMDB name_basics dataset in order to fit COP3530 Project 3 parameters. \n",
    "\n",
    "Available here: https://datasets.imdbws.com/"
   ]
  },
  {
   "cell_type": "code",
   "execution_count": 83,
   "metadata": {},
   "outputs": [],
   "source": [
    "#importing useful libraries\n",
    "import pandas as pd\n",
    "import numpy as np"
   ]
  },
  {
   "cell_type": "code",
   "execution_count": 84,
   "metadata": {},
   "outputs": [
    {
     "data": {
      "text/html": [
       "<div>\n",
       "<style scoped>\n",
       "    .dataframe tbody tr th:only-of-type {\n",
       "        vertical-align: middle;\n",
       "    }\n",
       "\n",
       "    .dataframe tbody tr th {\n",
       "        vertical-align: top;\n",
       "    }\n",
       "\n",
       "    .dataframe thead th {\n",
       "        text-align: right;\n",
       "    }\n",
       "</style>\n",
       "<table border=\"1\" class=\"dataframe\">\n",
       "  <thead>\n",
       "    <tr style=\"text-align: right;\">\n",
       "      <th></th>\n",
       "      <th>nconst</th>\n",
       "      <th>primaryName</th>\n",
       "      <th>birthYear</th>\n",
       "      <th>deathYear</th>\n",
       "      <th>primaryProfession</th>\n",
       "      <th>knownForTitles</th>\n",
       "    </tr>\n",
       "  </thead>\n",
       "  <tbody>\n",
       "    <tr>\n",
       "      <th>0</th>\n",
       "      <td>nm0000001</td>\n",
       "      <td>Fred Astaire</td>\n",
       "      <td>1899</td>\n",
       "      <td>1987</td>\n",
       "      <td>soundtrack,actor,miscellaneous</td>\n",
       "      <td>tt0031983,tt0072308,tt0050419,tt0053137</td>\n",
       "    </tr>\n",
       "    <tr>\n",
       "      <th>1</th>\n",
       "      <td>nm0000002</td>\n",
       "      <td>Lauren Bacall</td>\n",
       "      <td>1924</td>\n",
       "      <td>2014</td>\n",
       "      <td>actress,soundtrack</td>\n",
       "      <td>tt0038355,tt0071877,tt0037382,tt0117057</td>\n",
       "    </tr>\n",
       "    <tr>\n",
       "      <th>2</th>\n",
       "      <td>nm0000003</td>\n",
       "      <td>Brigitte Bardot</td>\n",
       "      <td>1934</td>\n",
       "      <td>\\N</td>\n",
       "      <td>actress,soundtrack,music_department</td>\n",
       "      <td>tt0049189,tt0054452,tt0056404,tt0057345</td>\n",
       "    </tr>\n",
       "    <tr>\n",
       "      <th>3</th>\n",
       "      <td>nm0000004</td>\n",
       "      <td>John Belushi</td>\n",
       "      <td>1949</td>\n",
       "      <td>1982</td>\n",
       "      <td>actor,soundtrack,writer</td>\n",
       "      <td>tt0072562,tt0077975,tt0080455,tt0078723</td>\n",
       "    </tr>\n",
       "    <tr>\n",
       "      <th>4</th>\n",
       "      <td>nm0000005</td>\n",
       "      <td>Ingmar Bergman</td>\n",
       "      <td>1918</td>\n",
       "      <td>2007</td>\n",
       "      <td>writer,director,actor</td>\n",
       "      <td>tt0083922,tt0060827,tt0050986,tt0050976</td>\n",
       "    </tr>\n",
       "  </tbody>\n",
       "</table>\n",
       "</div>"
      ],
      "text/plain": [
       "      nconst      primaryName birthYear deathYear  \\\n",
       "0  nm0000001     Fred Astaire      1899      1987   \n",
       "1  nm0000002    Lauren Bacall      1924      2014   \n",
       "2  nm0000003  Brigitte Bardot      1934        \\N   \n",
       "3  nm0000004     John Belushi      1949      1982   \n",
       "4  nm0000005   Ingmar Bergman      1918      2007   \n",
       "\n",
       "                     primaryProfession  \\\n",
       "0       soundtrack,actor,miscellaneous   \n",
       "1                   actress,soundtrack   \n",
       "2  actress,soundtrack,music_department   \n",
       "3              actor,soundtrack,writer   \n",
       "4                writer,director,actor   \n",
       "\n",
       "                            knownForTitles  \n",
       "0  tt0031983,tt0072308,tt0050419,tt0053137  \n",
       "1  tt0038355,tt0071877,tt0037382,tt0117057  \n",
       "2  tt0049189,tt0054452,tt0056404,tt0057345  \n",
       "3  tt0072562,tt0077975,tt0080455,tt0078723  \n",
       "4  tt0083922,tt0060827,tt0050986,tt0050976  "
      ]
     },
     "execution_count": 84,
     "metadata": {},
     "output_type": "execute_result"
    }
   ],
   "source": [
    "#read imdb into dataframe \n",
    "name_basics = pd.read_csv(\"name.basics.tsv/data.tsv\", sep='\\t')\n",
    "name_basics.head()"
   ]
  },
  {
   "cell_type": "code",
   "execution_count": 85,
   "metadata": {},
   "outputs": [
    {
     "name": "stdout",
     "output_type": "stream",
     "text": [
      "(11365349, 6)\n"
     ]
    }
   ],
   "source": [
    "#initial shape of dataframe\n",
    "print(name_basics.shape)"
   ]
  },
  {
   "cell_type": "code",
   "execution_count": 86,
   "metadata": {},
   "outputs": [
    {
     "name": "stdout",
     "output_type": "stream",
     "text": [
      "(537394, 6)\n"
     ]
    }
   ],
   "source": [
    "#only keep entries with valid birth years\n",
    "name_basics = name_basics[name_basics['birthYear'] != '\\\\N']\n",
    "print(name_basics.shape)"
   ]
  },
  {
   "cell_type": "code",
   "execution_count": 87,
   "metadata": {},
   "outputs": [
    {
     "name": "stdout",
     "output_type": "stream",
     "text": [
      "object\n",
      "int32\n"
     ]
    }
   ],
   "source": [
    "#casting bday to int for future comparison\n",
    "print(name_basics['birthYear'].dtypes)\n",
    "name_basics['birthYear'] = name_basics['birthYear'].astype(int)\n",
    "print(name_basics['birthYear'].dtypes)"
   ]
  },
  {
   "cell_type": "code",
   "execution_count": 88,
   "metadata": {},
   "outputs": [
    {
     "data": {
      "text/plain": [
       "(498336, 6)"
      ]
     },
     "execution_count": 88,
     "metadata": {},
     "output_type": "execute_result"
    }
   ],
   "source": [
    "#filter out \"ancienct\" actors\n",
    "name_basics = name_basics[name_basics['birthYear'] > 1899]\n",
    "name_basics.shape"
   ]
  },
  {
   "cell_type": "code",
   "execution_count": 89,
   "metadata": {},
   "outputs": [
    {
     "name": "stdout",
     "output_type": "stream",
     "text": [
      "object\n",
      "object\n"
     ]
    }
   ],
   "source": [
    "#cast popular appearances to string\n",
    "print(name_basics['knownForTitles'].dtypes)\n",
    "name_basics['knownForTitles'] = name_basics['knownForTitles'].astype(str)\n",
    "print(name_basics['knownForTitles'].dtypes)"
   ]
  },
  {
   "cell_type": "code",
   "execution_count": 90,
   "metadata": {},
   "outputs": [
    {
     "name": "stdout",
     "output_type": "stream",
     "text": [
      "(486449, 6)\n"
     ]
    }
   ],
   "source": [
    "#filter out those with no notable titles\n",
    "name_basics = name_basics[name_basics['knownForTitles'] != '\\\\N']\n",
    "print(name_basics.shape)"
   ]
  },
  {
   "cell_type": "code",
   "execution_count": 91,
   "metadata": {},
   "outputs": [
    {
     "name": "stdout",
     "output_type": "stream",
     "text": [
      "(261105, 6)\n"
     ]
    }
   ],
   "source": [
    "#keep only those who are primarily actors/actresses\n",
    "name_basics['primaryProfession'] = name_basics['primaryProfession'].str.slice(0,3)\n",
    "name_basics = name_basics[name_basics['primaryProfession'] == 'act']\n",
    "print(name_basics.shape)"
   ]
  },
  {
   "cell_type": "code",
   "execution_count": 92,
   "metadata": {},
   "outputs": [
    {
     "name": "stdout",
     "output_type": "stream",
     "text": [
      "(168330, 7)\n"
     ]
    }
   ],
   "source": [
    "#filter out actors/actresses with less than 4 notable appearances\n",
    "name_basics['len'] = name_basics['knownForTitles'].str.len()\n",
    "name_basics = name_basics[name_basics['len'] == np.int64(39)]\n",
    "print(name_basics.shape)"
   ]
  },
  {
   "cell_type": "code",
   "execution_count": 93,
   "metadata": {},
   "outputs": [
    {
     "data": {
      "text/html": [
       "<div>\n",
       "<style scoped>\n",
       "    .dataframe tbody tr th:only-of-type {\n",
       "        vertical-align: middle;\n",
       "    }\n",
       "\n",
       "    .dataframe tbody tr th {\n",
       "        vertical-align: top;\n",
       "    }\n",
       "\n",
       "    .dataframe thead th {\n",
       "        text-align: right;\n",
       "    }\n",
       "</style>\n",
       "<table border=\"1\" class=\"dataframe\">\n",
       "  <thead>\n",
       "    <tr style=\"text-align: right;\">\n",
       "      <th></th>\n",
       "      <th>nconst</th>\n",
       "      <th>primaryName</th>\n",
       "      <th>birthYear</th>\n",
       "      <th>deathYear</th>\n",
       "      <th>primaryProfession</th>\n",
       "      <th>knownForTitles</th>\n",
       "      <th>len</th>\n",
       "    </tr>\n",
       "  </thead>\n",
       "  <tbody>\n",
       "    <tr>\n",
       "      <th>1</th>\n",
       "      <td>nm0000002</td>\n",
       "      <td>Lauren Bacall</td>\n",
       "      <td>1924</td>\n",
       "      <td>2014</td>\n",
       "      <td>act</td>\n",
       "      <td>tt0038355,tt0071877,tt0037382,tt0117057</td>\n",
       "      <td>39</td>\n",
       "    </tr>\n",
       "    <tr>\n",
       "      <th>2</th>\n",
       "      <td>nm0000003</td>\n",
       "      <td>Brigitte Bardot</td>\n",
       "      <td>1934</td>\n",
       "      <td>\\N</td>\n",
       "      <td>act</td>\n",
       "      <td>tt0049189,tt0054452,tt0056404,tt0057345</td>\n",
       "      <td>39</td>\n",
       "    </tr>\n",
       "    <tr>\n",
       "      <th>3</th>\n",
       "      <td>nm0000004</td>\n",
       "      <td>John Belushi</td>\n",
       "      <td>1949</td>\n",
       "      <td>1982</td>\n",
       "      <td>act</td>\n",
       "      <td>tt0072562,tt0077975,tt0080455,tt0078723</td>\n",
       "      <td>39</td>\n",
       "    </tr>\n",
       "    <tr>\n",
       "      <th>5</th>\n",
       "      <td>nm0000006</td>\n",
       "      <td>Ingrid Bergman</td>\n",
       "      <td>1915</td>\n",
       "      <td>1982</td>\n",
       "      <td>act</td>\n",
       "      <td>tt0038109,tt0077711,tt0036855,tt0034583</td>\n",
       "      <td>39</td>\n",
       "    </tr>\n",
       "    <tr>\n",
       "      <th>7</th>\n",
       "      <td>nm0000008</td>\n",
       "      <td>Marlon Brando</td>\n",
       "      <td>1924</td>\n",
       "      <td>2004</td>\n",
       "      <td>act</td>\n",
       "      <td>tt0078788,tt0068646,tt0047296,tt0070849</td>\n",
       "      <td>39</td>\n",
       "    </tr>\n",
       "  </tbody>\n",
       "</table>\n",
       "</div>"
      ],
      "text/plain": [
       "      nconst      primaryName  birthYear deathYear primaryProfession  \\\n",
       "1  nm0000002    Lauren Bacall       1924      2014               act   \n",
       "2  nm0000003  Brigitte Bardot       1934        \\N               act   \n",
       "3  nm0000004     John Belushi       1949      1982               act   \n",
       "5  nm0000006   Ingrid Bergman       1915      1982               act   \n",
       "7  nm0000008    Marlon Brando       1924      2004               act   \n",
       "\n",
       "                            knownForTitles  len  \n",
       "1  tt0038355,tt0071877,tt0037382,tt0117057   39  \n",
       "2  tt0049189,tt0054452,tt0056404,tt0057345   39  \n",
       "3  tt0072562,tt0077975,tt0080455,tt0078723   39  \n",
       "5  tt0038109,tt0077711,tt0036855,tt0034583   39  \n",
       "7  tt0078788,tt0068646,tt0047296,tt0070849   39  "
      ]
     },
     "execution_count": 93,
     "metadata": {},
     "output_type": "execute_result"
    }
   ],
   "source": [
    "#top of dataframe\n",
    "name_basics.head()"
   ]
  },
  {
   "cell_type": "code",
   "execution_count": 94,
   "metadata": {},
   "outputs": [
    {
     "data": {
      "text/html": [
       "<div>\n",
       "<style scoped>\n",
       "    .dataframe tbody tr th:only-of-type {\n",
       "        vertical-align: middle;\n",
       "    }\n",
       "\n",
       "    .dataframe tbody tr th {\n",
       "        vertical-align: top;\n",
       "    }\n",
       "\n",
       "    .dataframe thead th {\n",
       "        text-align: right;\n",
       "    }\n",
       "</style>\n",
       "<table border=\"1\" class=\"dataframe\">\n",
       "  <thead>\n",
       "    <tr style=\"text-align: right;\">\n",
       "      <th></th>\n",
       "      <th>nconst</th>\n",
       "      <th>primaryName</th>\n",
       "      <th>birthYear</th>\n",
       "      <th>deathYear</th>\n",
       "      <th>primaryProfession</th>\n",
       "      <th>knownForTitles</th>\n",
       "      <th>len</th>\n",
       "    </tr>\n",
       "  </thead>\n",
       "  <tbody>\n",
       "    <tr>\n",
       "      <th>11342666</th>\n",
       "      <td>nm9968037</td>\n",
       "      <td>Takashi Yamanaka</td>\n",
       "      <td>1978</td>\n",
       "      <td>\\N</td>\n",
       "      <td>act</td>\n",
       "      <td>tt2412560,tt1542840,tt3345472,tt1244666</td>\n",
       "      <td>39</td>\n",
       "    </tr>\n",
       "    <tr>\n",
       "      <th>11354154</th>\n",
       "      <td>nm9981009</td>\n",
       "      <td>Lynn Taylor</td>\n",
       "      <td>1938</td>\n",
       "      <td>\\N</td>\n",
       "      <td>act</td>\n",
       "      <td>tt0054518,tt0058846,tt0129685,tt0196257</td>\n",
       "      <td>39</td>\n",
       "    </tr>\n",
       "    <tr>\n",
       "      <th>11354254</th>\n",
       "      <td>nm9981115</td>\n",
       "      <td>Anatoliy Vasilyev</td>\n",
       "      <td>1945</td>\n",
       "      <td>\\N</td>\n",
       "      <td>act</td>\n",
       "      <td>tt0252016,tt5332324,tt8715760,tt0308680</td>\n",
       "      <td>39</td>\n",
       "    </tr>\n",
       "    <tr>\n",
       "      <th>11354556</th>\n",
       "      <td>nm9981451</td>\n",
       "      <td>Jessica Night</td>\n",
       "      <td>1992</td>\n",
       "      <td>\\N</td>\n",
       "      <td>act</td>\n",
       "      <td>tt9501928,tt6642458,tt6669116,tt9497336</td>\n",
       "      <td>39</td>\n",
       "    </tr>\n",
       "    <tr>\n",
       "      <th>11357932</th>\n",
       "      <td>nm9985332</td>\n",
       "      <td>Michael Iacono</td>\n",
       "      <td>2005</td>\n",
       "      <td>\\N</td>\n",
       "      <td>act</td>\n",
       "      <td>tt8110232,tt4158110,tt2372162,tt8591260</td>\n",
       "      <td>39</td>\n",
       "    </tr>\n",
       "  </tbody>\n",
       "</table>\n",
       "</div>"
      ],
      "text/plain": [
       "             nconst        primaryName  birthYear deathYear primaryProfession  \\\n",
       "11342666  nm9968037   Takashi Yamanaka       1978        \\N               act   \n",
       "11354154  nm9981009        Lynn Taylor       1938        \\N               act   \n",
       "11354254  nm9981115  Anatoliy Vasilyev       1945        \\N               act   \n",
       "11354556  nm9981451      Jessica Night       1992        \\N               act   \n",
       "11357932  nm9985332     Michael Iacono       2005        \\N               act   \n",
       "\n",
       "                                   knownForTitles  len  \n",
       "11342666  tt2412560,tt1542840,tt3345472,tt1244666   39  \n",
       "11354154  tt0054518,tt0058846,tt0129685,tt0196257   39  \n",
       "11354254  tt0252016,tt5332324,tt8715760,tt0308680   39  \n",
       "11354556  tt9501928,tt6642458,tt6669116,tt9497336   39  \n",
       "11357932  tt8110232,tt4158110,tt2372162,tt8591260   39  "
      ]
     },
     "execution_count": 94,
     "metadata": {},
     "output_type": "execute_result"
    }
   ],
   "source": [
    "#bottom of dataframe\n",
    "name_basics.tail()"
   ]
  },
  {
   "cell_type": "code",
   "execution_count": 95,
   "metadata": {},
   "outputs": [
    {
     "name": "stdout",
     "output_type": "stream",
     "text": [
      "(168330, 2)\n"
     ]
    }
   ],
   "source": [
    "#drop irrelevant columns\n",
    "name_basics.drop('nconst', axis=1, inplace=True)\n",
    "name_basics.drop('birthYear', axis=1, inplace=True)\n",
    "name_basics.drop('deathYear', axis=1, inplace=True)\n",
    "name_basics.drop('primaryProfession', axis=1, inplace=True)\n",
    "name_basics.drop('len', axis=1, inplace=True)\n",
    "\n",
    "print(name_basics.shape)"
   ]
  },
  {
   "cell_type": "code",
   "execution_count": 96,
   "metadata": {},
   "outputs": [
    {
     "data": {
      "text/html": [
       "<div>\n",
       "<style scoped>\n",
       "    .dataframe tbody tr th:only-of-type {\n",
       "        vertical-align: middle;\n",
       "    }\n",
       "\n",
       "    .dataframe tbody tr th {\n",
       "        vertical-align: top;\n",
       "    }\n",
       "\n",
       "    .dataframe thead th {\n",
       "        text-align: right;\n",
       "    }\n",
       "</style>\n",
       "<table border=\"1\" class=\"dataframe\">\n",
       "  <thead>\n",
       "    <tr style=\"text-align: right;\">\n",
       "      <th></th>\n",
       "      <th>primaryName</th>\n",
       "      <th>knownForTitles</th>\n",
       "    </tr>\n",
       "  </thead>\n",
       "  <tbody>\n",
       "    <tr>\n",
       "      <th>1</th>\n",
       "      <td>Lauren Bacall</td>\n",
       "      <td>tt0038355,tt0071877,tt0037382,tt0117057</td>\n",
       "    </tr>\n",
       "    <tr>\n",
       "      <th>2</th>\n",
       "      <td>Brigitte Bardot</td>\n",
       "      <td>tt0049189,tt0054452,tt0056404,tt0057345</td>\n",
       "    </tr>\n",
       "    <tr>\n",
       "      <th>3</th>\n",
       "      <td>John Belushi</td>\n",
       "      <td>tt0072562,tt0077975,tt0080455,tt0078723</td>\n",
       "    </tr>\n",
       "    <tr>\n",
       "      <th>5</th>\n",
       "      <td>Ingrid Bergman</td>\n",
       "      <td>tt0038109,tt0077711,tt0036855,tt0034583</td>\n",
       "    </tr>\n",
       "    <tr>\n",
       "      <th>7</th>\n",
       "      <td>Marlon Brando</td>\n",
       "      <td>tt0078788,tt0068646,tt0047296,tt0070849</td>\n",
       "    </tr>\n",
       "  </tbody>\n",
       "</table>\n",
       "</div>"
      ],
      "text/plain": [
       "       primaryName                           knownForTitles\n",
       "1    Lauren Bacall  tt0038355,tt0071877,tt0037382,tt0117057\n",
       "2  Brigitte Bardot  tt0049189,tt0054452,tt0056404,tt0057345\n",
       "3     John Belushi  tt0072562,tt0077975,tt0080455,tt0078723\n",
       "5   Ingrid Bergman  tt0038109,tt0077711,tt0036855,tt0034583\n",
       "7    Marlon Brando  tt0078788,tt0068646,tt0047296,tt0070849"
      ]
     },
     "execution_count": 96,
     "metadata": {},
     "output_type": "execute_result"
    }
   ],
   "source": [
    "#updated top of dataframe\n",
    "name_basics.head()"
   ]
  },
  {
   "cell_type": "code",
   "execution_count": 97,
   "metadata": {},
   "outputs": [],
   "source": [
    "#write updated database to csv\n",
    "name_basics.to_csv('graph.csv', index=False, header=True)"
   ]
  }
 ],
 "metadata": {
  "interpreter": {
   "hash": "983822272b6036f152da607407fb56c82cb33f170b11066cb256a9563c62c1e1"
  },
  "kernelspec": {
   "display_name": "Python 3.9.7 64-bit ('CelebriGator': conda)",
   "name": "python3"
  },
  "language_info": {
   "codemirror_mode": {
    "name": "ipython",
    "version": 3
   },
   "file_extension": ".py",
   "mimetype": "text/x-python",
   "name": "python",
   "nbconvert_exporter": "python",
   "pygments_lexer": "ipython3",
   "version": "3.9.7"
  },
  "orig_nbformat": 4
 },
 "nbformat": 4,
 "nbformat_minor": 2
}
